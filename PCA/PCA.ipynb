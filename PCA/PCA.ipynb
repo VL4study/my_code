{
 "cells": [
  {
   "cell_type": "code",
   "execution_count": 85,
   "metadata": {},
   "outputs": [],
   "source": [
    "import pandas as pd\n",
    "from sklearn.decomposition import PCA\n",
    "import numpy as np"
   ]
  },
  {
   "cell_type": "code",
   "execution_count": 86,
   "metadata": {},
   "outputs": [],
   "source": [
    "prices = pd.read_csv('close_prices.csv')"
   ]
  },
  {
   "cell_type": "code",
   "execution_count": 87,
   "metadata": {},
   "outputs": [
    {
     "data": {
      "text/html": [
       "<div>\n",
       "<style scoped>\n",
       "    .dataframe tbody tr th:only-of-type {\n",
       "        vertical-align: middle;\n",
       "    }\n",
       "\n",
       "    .dataframe tbody tr th {\n",
       "        vertical-align: top;\n",
       "    }\n",
       "\n",
       "    .dataframe thead th {\n",
       "        text-align: right;\n",
       "    }\n",
       "</style>\n",
       "<table border=\"1\" class=\"dataframe\">\n",
       "  <thead>\n",
       "    <tr style=\"text-align: right;\">\n",
       "      <th></th>\n",
       "      <th>date</th>\n",
       "      <th>AXP</th>\n",
       "      <th>BA</th>\n",
       "      <th>CAT</th>\n",
       "      <th>CSCO</th>\n",
       "      <th>CVX</th>\n",
       "      <th>DD</th>\n",
       "      <th>DIS</th>\n",
       "      <th>GE</th>\n",
       "      <th>GS</th>\n",
       "      <th>...</th>\n",
       "      <th>PFE</th>\n",
       "      <th>PG</th>\n",
       "      <th>T</th>\n",
       "      <th>TRV</th>\n",
       "      <th>UNH</th>\n",
       "      <th>UTX</th>\n",
       "      <th>V</th>\n",
       "      <th>VZ</th>\n",
       "      <th>WMT</th>\n",
       "      <th>XOM</th>\n",
       "    </tr>\n",
       "  </thead>\n",
       "  <tbody>\n",
       "    <tr>\n",
       "      <th>0</th>\n",
       "      <td>2013-09-23</td>\n",
       "      <td>76.440002</td>\n",
       "      <td>117.510002</td>\n",
       "      <td>85.029999</td>\n",
       "      <td>24.270000</td>\n",
       "      <td>125.519997</td>\n",
       "      <td>59.409999</td>\n",
       "      <td>64.750000</td>\n",
       "      <td>24.280001</td>\n",
       "      <td>165.250000</td>\n",
       "      <td>...</td>\n",
       "      <td>28.799999</td>\n",
       "      <td>79.279999</td>\n",
       "      <td>34.220001</td>\n",
       "      <td>86.379997</td>\n",
       "      <td>71.820000</td>\n",
       "      <td>109.419998</td>\n",
       "      <td>196.240005</td>\n",
       "      <td>47.980000</td>\n",
       "      <td>76.419998</td>\n",
       "      <td>87.750000</td>\n",
       "    </tr>\n",
       "    <tr>\n",
       "      <th>1</th>\n",
       "      <td>2013-09-24</td>\n",
       "      <td>76.070000</td>\n",
       "      <td>119.000000</td>\n",
       "      <td>85.110001</td>\n",
       "      <td>24.139999</td>\n",
       "      <td>124.489998</td>\n",
       "      <td>59.319997</td>\n",
       "      <td>64.320000</td>\n",
       "      <td>24.320000</td>\n",
       "      <td>162.970001</td>\n",
       "      <td>...</td>\n",
       "      <td>28.709999</td>\n",
       "      <td>78.620003</td>\n",
       "      <td>34.090000</td>\n",
       "      <td>85.870003</td>\n",
       "      <td>72.320000</td>\n",
       "      <td>110.000000</td>\n",
       "      <td>193.339996</td>\n",
       "      <td>47.270000</td>\n",
       "      <td>75.750000</td>\n",
       "      <td>87.360001</td>\n",
       "    </tr>\n",
       "    <tr>\n",
       "      <th>2</th>\n",
       "      <td>2013-09-25</td>\n",
       "      <td>75.989998</td>\n",
       "      <td>118.510002</td>\n",
       "      <td>84.500000</td>\n",
       "      <td>24.430000</td>\n",
       "      <td>124.070000</td>\n",
       "      <td>59.319997</td>\n",
       "      <td>64.449997</td>\n",
       "      <td>24.230000</td>\n",
       "      <td>162.309998</td>\n",
       "      <td>...</td>\n",
       "      <td>28.490000</td>\n",
       "      <td>77.720001</td>\n",
       "      <td>34.049999</td>\n",
       "      <td>85.980003</td>\n",
       "      <td>71.980003</td>\n",
       "      <td>109.260002</td>\n",
       "      <td>191.559998</td>\n",
       "      <td>46.950001</td>\n",
       "      <td>74.650002</td>\n",
       "      <td>87.139999</td>\n",
       "    </tr>\n",
       "    <tr>\n",
       "      <th>3</th>\n",
       "      <td>2013-09-26</td>\n",
       "      <td>76.320000</td>\n",
       "      <td>119.379997</td>\n",
       "      <td>84.199997</td>\n",
       "      <td>23.770000</td>\n",
       "      <td>123.489998</td>\n",
       "      <td>59.509996</td>\n",
       "      <td>65.239998</td>\n",
       "      <td>24.250000</td>\n",
       "      <td>162.289993</td>\n",
       "      <td>...</td>\n",
       "      <td>28.520000</td>\n",
       "      <td>78.050003</td>\n",
       "      <td>34.230000</td>\n",
       "      <td>85.830002</td>\n",
       "      <td>72.160004</td>\n",
       "      <td>109.660004</td>\n",
       "      <td>193.559998</td>\n",
       "      <td>47.669998</td>\n",
       "      <td>74.620003</td>\n",
       "      <td>87.070000</td>\n",
       "    </tr>\n",
       "    <tr>\n",
       "      <th>4</th>\n",
       "      <td>2013-09-27</td>\n",
       "      <td>75.889999</td>\n",
       "      <td>118.739998</td>\n",
       "      <td>83.800003</td>\n",
       "      <td>23.330000</td>\n",
       "      <td>122.639999</td>\n",
       "      <td>59.009995</td>\n",
       "      <td>65.190002</td>\n",
       "      <td>24.049999</td>\n",
       "      <td>159.850006</td>\n",
       "      <td>...</td>\n",
       "      <td>28.879999</td>\n",
       "      <td>77.209999</td>\n",
       "      <td>33.980000</td>\n",
       "      <td>85.410004</td>\n",
       "      <td>71.989998</td>\n",
       "      <td>109.360001</td>\n",
       "      <td>193.050003</td>\n",
       "      <td>47.000000</td>\n",
       "      <td>74.360001</td>\n",
       "      <td>86.900002</td>\n",
       "    </tr>\n",
       "  </tbody>\n",
       "</table>\n",
       "<p>5 rows × 31 columns</p>\n",
       "</div>"
      ],
      "text/plain": [
       "         date        AXP          BA        CAT       CSCO         CVX  \\\n",
       "0  2013-09-23  76.440002  117.510002  85.029999  24.270000  125.519997   \n",
       "1  2013-09-24  76.070000  119.000000  85.110001  24.139999  124.489998   \n",
       "2  2013-09-25  75.989998  118.510002  84.500000  24.430000  124.070000   \n",
       "3  2013-09-26  76.320000  119.379997  84.199997  23.770000  123.489998   \n",
       "4  2013-09-27  75.889999  118.739998  83.800003  23.330000  122.639999   \n",
       "\n",
       "          DD        DIS         GE          GS  ...        PFE         PG  \\\n",
       "0  59.409999  64.750000  24.280001  165.250000  ...  28.799999  79.279999   \n",
       "1  59.319997  64.320000  24.320000  162.970001  ...  28.709999  78.620003   \n",
       "2  59.319997  64.449997  24.230000  162.309998  ...  28.490000  77.720001   \n",
       "3  59.509996  65.239998  24.250000  162.289993  ...  28.520000  78.050003   \n",
       "4  59.009995  65.190002  24.049999  159.850006  ...  28.879999  77.209999   \n",
       "\n",
       "           T        TRV        UNH         UTX           V         VZ  \\\n",
       "0  34.220001  86.379997  71.820000  109.419998  196.240005  47.980000   \n",
       "1  34.090000  85.870003  72.320000  110.000000  193.339996  47.270000   \n",
       "2  34.049999  85.980003  71.980003  109.260002  191.559998  46.950001   \n",
       "3  34.230000  85.830002  72.160004  109.660004  193.559998  47.669998   \n",
       "4  33.980000  85.410004  71.989998  109.360001  193.050003  47.000000   \n",
       "\n",
       "         WMT        XOM  \n",
       "0  76.419998  87.750000  \n",
       "1  75.750000  87.360001  \n",
       "2  74.650002  87.139999  \n",
       "3  74.620003  87.070000  \n",
       "4  74.360001  86.900002  \n",
       "\n",
       "[5 rows x 31 columns]"
      ]
     },
     "execution_count": 87,
     "metadata": {},
     "output_type": "execute_result"
    }
   ],
   "source": [
    "prices.head()"
   ]
  },
  {
   "cell_type": "code",
   "execution_count": 88,
   "metadata": {},
   "outputs": [],
   "source": [
    "companies = prices.columns.values[1:]"
   ]
  },
  {
   "cell_type": "code",
   "execution_count": 89,
   "metadata": {},
   "outputs": [],
   "source": [
    "def components_count_for_some_sum(nums, limit):\n",
    "    count = 0\n",
    "    summ = 0.0\n",
    "    for num in sorted(nums, reverse=True):\n",
    "        if summ >= limit:\n",
    "            return count\n",
    "        summ += num\n",
    "        count += 1\n",
    "    return None    "
   ]
  },
  {
   "cell_type": "code",
   "execution_count": 90,
   "metadata": {},
   "outputs": [
    {
     "data": {
      "text/plain": [
       "PCA(n_components=10)"
      ]
     },
     "execution_count": 90,
     "metadata": {},
     "output_type": "execute_result"
    }
   ],
   "source": [
    "pca = PCA(n_components=10)\n",
    "\n",
    "pca.fit(prices.iloc[:, 1:])"
   ]
  },
  {
   "cell_type": "code",
   "execution_count": 91,
   "metadata": {},
   "outputs": [
    {
     "data": {
      "text/plain": [
       "array([0.73897118, 0.11007169, 0.04995088, 0.0287492 , 0.02215448,\n",
       "       0.01931577, 0.00674853, 0.00614091, 0.00320594, 0.00305611])"
      ]
     },
     "execution_count": 91,
     "metadata": {},
     "output_type": "execute_result"
    }
   ],
   "source": [
    "pca.explained_variance_ratio_"
   ]
  },
  {
   "cell_type": "code",
   "execution_count": 92,
   "metadata": {},
   "outputs": [],
   "source": [
    "result = components_count_for_some_sum(pca.explained_variance_ratio_, 0.9)"
   ]
  },
  {
   "cell_type": "code",
   "execution_count": 93,
   "metadata": {},
   "outputs": [],
   "source": [
    "with open('1.txt', 'w') as f:\n",
    "    f.write(str(result))"
   ]
  },
  {
   "cell_type": "code",
   "execution_count": 107,
   "metadata": {},
   "outputs": [
    {
     "name": "stdout",
     "output_type": "stream",
     "text": [
      "[[-50.90240358  17.63167724   7.7360209  ...   3.55657041  -5.82197358\n",
      "   -1.72604005]\n",
      " [-52.84690919  19.14690749   7.27254551 ...   3.43259929  -5.63318106\n",
      "   -2.0122316 ]\n",
      " [-54.61443917  19.92735811   8.10995831 ...   4.17520282  -5.38828678\n",
      "   -2.75269933]\n",
      " ...\n",
      " [ 83.79819948  16.95241334  -8.25265611 ...   2.92390381  -4.59543822\n",
      "   -2.99033503]\n",
      " [ 79.19578947  19.14436008  -6.93262976 ...   3.40475421  -3.66793327\n",
      "   -3.57607629]\n",
      " [ 82.96885933  13.13513974  -9.07644299 ...   3.75100423  -4.79172198\n",
      "   -3.03918865]]\n"
     ]
    }
   ],
   "source": [
    "prices_pca = pca.transform(prices.iloc[:, 1:])\n",
    "print(prices_pca)\n",
    "prices_pca = pd.DataFrame(prices_pca)\n",
    "prices_pca['date'] = prices['date']\n",
    "prices_pca = prices_pca[['date'] + prices_pca.columns.tolist()[0:-1]]"
   ]
  },
  {
   "cell_type": "code",
   "execution_count": 108,
   "metadata": {},
   "outputs": [
    {
     "data": {
      "text/html": [
       "<div>\n",
       "<style scoped>\n",
       "    .dataframe tbody tr th:only-of-type {\n",
       "        vertical-align: middle;\n",
       "    }\n",
       "\n",
       "    .dataframe tbody tr th {\n",
       "        vertical-align: top;\n",
       "    }\n",
       "\n",
       "    .dataframe thead th {\n",
       "        text-align: right;\n",
       "    }\n",
       "</style>\n",
       "<table border=\"1\" class=\"dataframe\">\n",
       "  <thead>\n",
       "    <tr style=\"text-align: right;\">\n",
       "      <th></th>\n",
       "      <th>date</th>\n",
       "      <th>0</th>\n",
       "      <th>1</th>\n",
       "      <th>2</th>\n",
       "      <th>3</th>\n",
       "      <th>4</th>\n",
       "      <th>5</th>\n",
       "      <th>6</th>\n",
       "      <th>7</th>\n",
       "      <th>8</th>\n",
       "      <th>9</th>\n",
       "    </tr>\n",
       "  </thead>\n",
       "  <tbody>\n",
       "    <tr>\n",
       "      <th>0</th>\n",
       "      <td>2013-09-23</td>\n",
       "      <td>-50.902404</td>\n",
       "      <td>17.631677</td>\n",
       "      <td>7.736021</td>\n",
       "      <td>2.596010</td>\n",
       "      <td>2.377569</td>\n",
       "      <td>4.244055</td>\n",
       "      <td>12.883088</td>\n",
       "      <td>3.556570</td>\n",
       "      <td>-5.821974</td>\n",
       "      <td>-1.726040</td>\n",
       "    </tr>\n",
       "    <tr>\n",
       "      <th>1</th>\n",
       "      <td>2013-09-24</td>\n",
       "      <td>-52.846909</td>\n",
       "      <td>19.146907</td>\n",
       "      <td>7.272546</td>\n",
       "      <td>4.618575</td>\n",
       "      <td>0.102182</td>\n",
       "      <td>3.935519</td>\n",
       "      <td>11.062930</td>\n",
       "      <td>3.432599</td>\n",
       "      <td>-5.633181</td>\n",
       "      <td>-2.012232</td>\n",
       "    </tr>\n",
       "    <tr>\n",
       "      <th>2</th>\n",
       "      <td>2013-09-25</td>\n",
       "      <td>-54.614439</td>\n",
       "      <td>19.927358</td>\n",
       "      <td>8.109958</td>\n",
       "      <td>4.920347</td>\n",
       "      <td>-0.421454</td>\n",
       "      <td>4.555335</td>\n",
       "      <td>10.119224</td>\n",
       "      <td>4.175203</td>\n",
       "      <td>-5.388287</td>\n",
       "      <td>-2.752699</td>\n",
       "    </tr>\n",
       "    <tr>\n",
       "      <th>3</th>\n",
       "      <td>2013-09-26</td>\n",
       "      <td>-52.600566</td>\n",
       "      <td>19.941571</td>\n",
       "      <td>6.948113</td>\n",
       "      <td>4.806243</td>\n",
       "      <td>0.319779</td>\n",
       "      <td>5.065505</td>\n",
       "      <td>9.849605</td>\n",
       "      <td>3.266579</td>\n",
       "      <td>-5.974574</td>\n",
       "      <td>-1.922746</td>\n",
       "    </tr>\n",
       "    <tr>\n",
       "      <th>4</th>\n",
       "      <td>2013-09-27</td>\n",
       "      <td>-52.370123</td>\n",
       "      <td>22.289064</td>\n",
       "      <td>8.410868</td>\n",
       "      <td>3.833372</td>\n",
       "      <td>-2.464882</td>\n",
       "      <td>4.359897</td>\n",
       "      <td>7.988691</td>\n",
       "      <td>3.452709</td>\n",
       "      <td>-5.745204</td>\n",
       "      <td>-1.875131</td>\n",
       "    </tr>\n",
       "  </tbody>\n",
       "</table>\n",
       "</div>"
      ],
      "text/plain": [
       "         date          0          1         2         3         4         5  \\\n",
       "0  2013-09-23 -50.902404  17.631677  7.736021  2.596010  2.377569  4.244055   \n",
       "1  2013-09-24 -52.846909  19.146907  7.272546  4.618575  0.102182  3.935519   \n",
       "2  2013-09-25 -54.614439  19.927358  8.109958  4.920347 -0.421454  4.555335   \n",
       "3  2013-09-26 -52.600566  19.941571  6.948113  4.806243  0.319779  5.065505   \n",
       "4  2013-09-27 -52.370123  22.289064  8.410868  3.833372 -2.464882  4.359897   \n",
       "\n",
       "           6         7         8         9  \n",
       "0  12.883088  3.556570 -5.821974 -1.726040  \n",
       "1  11.062930  3.432599 -5.633181 -2.012232  \n",
       "2  10.119224  4.175203 -5.388287 -2.752699  \n",
       "3   9.849605  3.266579 -5.974574 -1.922746  \n",
       "4   7.988691  3.452709 -5.745204 -1.875131  "
      ]
     },
     "execution_count": 108,
     "metadata": {},
     "output_type": "execute_result"
    }
   ],
   "source": [
    "prices_pca.head()"
   ]
  },
  {
   "cell_type": "code",
   "execution_count": 109,
   "metadata": {},
   "outputs": [],
   "source": [
    "djia_index = pd.read_csv('djia_index.csv')"
   ]
  },
  {
   "cell_type": "code",
   "execution_count": 97,
   "metadata": {},
   "outputs": [
    {
     "data": {
      "text/html": [
       "<div>\n",
       "<style scoped>\n",
       "    .dataframe tbody tr th:only-of-type {\n",
       "        vertical-align: middle;\n",
       "    }\n",
       "\n",
       "    .dataframe tbody tr th {\n",
       "        vertical-align: top;\n",
       "    }\n",
       "\n",
       "    .dataframe thead th {\n",
       "        text-align: right;\n",
       "    }\n",
       "</style>\n",
       "<table border=\"1\" class=\"dataframe\">\n",
       "  <thead>\n",
       "    <tr style=\"text-align: right;\">\n",
       "      <th></th>\n",
       "      <th>date</th>\n",
       "      <th>^DJI</th>\n",
       "    </tr>\n",
       "  </thead>\n",
       "  <tbody>\n",
       "    <tr>\n",
       "      <th>0</th>\n",
       "      <td>2013-09-23</td>\n",
       "      <td>15401.379883</td>\n",
       "    </tr>\n",
       "    <tr>\n",
       "      <th>1</th>\n",
       "      <td>2013-09-24</td>\n",
       "      <td>15334.589844</td>\n",
       "    </tr>\n",
       "    <tr>\n",
       "      <th>2</th>\n",
       "      <td>2013-09-25</td>\n",
       "      <td>15273.259766</td>\n",
       "    </tr>\n",
       "    <tr>\n",
       "      <th>3</th>\n",
       "      <td>2013-09-26</td>\n",
       "      <td>15328.299805</td>\n",
       "    </tr>\n",
       "    <tr>\n",
       "      <th>4</th>\n",
       "      <td>2013-09-27</td>\n",
       "      <td>15258.240234</td>\n",
       "    </tr>\n",
       "  </tbody>\n",
       "</table>\n",
       "</div>"
      ],
      "text/plain": [
       "         date          ^DJI\n",
       "0  2013-09-23  15401.379883\n",
       "1  2013-09-24  15334.589844\n",
       "2  2013-09-25  15273.259766\n",
       "3  2013-09-26  15328.299805\n",
       "4  2013-09-27  15258.240234"
      ]
     },
     "execution_count": 97,
     "metadata": {},
     "output_type": "execute_result"
    }
   ],
   "source": [
    "djia_index.head()"
   ]
  },
  {
   "cell_type": "code",
   "execution_count": 110,
   "metadata": {},
   "outputs": [
    {
     "data": {
      "text/plain": [
       "array([[1.        , 0.90965222],\n",
       "       [0.90965222, 1.        ]])"
      ]
     },
     "execution_count": 110,
     "metadata": {},
     "output_type": "execute_result"
    }
   ],
   "source": [
    "pearson_corr = np.corrcoef(prices_pca.iloc[:, 1], djia_index.iloc[:, 1])\n",
    "pearson_corr"
   ]
  },
  {
   "cell_type": "code",
   "execution_count": 111,
   "metadata": {},
   "outputs": [],
   "source": [
    "with open('2.txt', 'w') as f:\n",
    "    f.write(str(round(pearson_corr[0, 1], 2)))"
   ]
  },
  {
   "cell_type": "code",
   "execution_count": 100,
   "metadata": {},
   "outputs": [
    {
     "data": {
      "text/plain": [
       "array([1.61383840e-02, 1.20644923e-01, 5.16612711e-02, 5.04842369e-02,\n",
       "       1.25859933e-01, 1.14089567e-01, 2.33906290e-01, 6.20513749e-03,\n",
       "       2.51227032e-01, 2.88996029e-01, 2.64998795e-01, 9.31320168e-02,\n",
       "       9.13948403e-02, 4.69879340e-02, 2.90549417e-02, 2.61068828e-02,\n",
       "       3.29615584e-01, 7.13897133e-02, 7.62295699e-02, 2.11888868e-01,\n",
       "       2.30922941e-02, 7.77316954e-02, 7.20594590e-03, 1.89479745e-01,\n",
       "       3.21564017e-01, 5.36834873e-02, 5.79683946e-01, 1.09122230e-04,\n",
       "       8.71614334e-02, 4.29421420e-02])"
      ]
     },
     "execution_count": 100,
     "metadata": {},
     "output_type": "execute_result"
    }
   ],
   "source": [
    "abs(pca.components_[0])"
   ]
  },
  {
   "cell_type": "code",
   "execution_count": 101,
   "metadata": {},
   "outputs": [],
   "source": [
    "max_value_company_index = max(enumerate(abs(pca.components_[0])), key=lambda x: x[1])[0]"
   ]
  },
  {
   "cell_type": "code",
   "execution_count": 102,
   "metadata": {},
   "outputs": [
    {
     "data": {
      "text/plain": [
       "'V'"
      ]
     },
     "execution_count": 102,
     "metadata": {},
     "output_type": "execute_result"
    }
   ],
   "source": [
    "companies[max_value_company_index]"
   ]
  },
  {
   "cell_type": "code",
   "execution_count": 103,
   "metadata": {},
   "outputs": [],
   "source": [
    "with open('3.txt', 'w') as f:\n",
    "    f.write(companies[max_value_company_index])"
   ]
  },
  {
   "cell_type": "code",
   "execution_count": null,
   "metadata": {},
   "outputs": [],
   "source": []
  }
 ],
 "metadata": {
  "kernelspec": {
   "display_name": "Python 3",
   "language": "python",
   "name": "python3"
  },
  "language_info": {
   "codemirror_mode": {
    "name": "ipython",
    "version": 3
   },
   "file_extension": ".py",
   "mimetype": "text/x-python",
   "name": "python",
   "nbconvert_exporter": "python",
   "pygments_lexer": "ipython3",
   "version": "3.6.9"
  }
 },
 "nbformat": 4,
 "nbformat_minor": 2
}
