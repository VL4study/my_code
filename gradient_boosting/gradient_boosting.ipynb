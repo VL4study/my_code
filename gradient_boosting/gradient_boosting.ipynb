{
 "cells": [
  {
   "cell_type": "code",
   "execution_count": 39,
   "metadata": {},
   "outputs": [],
   "source": [
    "import pandas as pd\n",
    "import numpy as np\n",
    "\n",
    "from sklearn.metrics import log_loss\n",
    "from sklearn.ensemble import GradientBoostingClassifier\n",
    "from sklearn.model_selection import train_test_split\n",
    "\n",
    "import matplotlib.pyplot as plt\n",
    "%matplotlib inline        "
   ]
  },
  {
   "cell_type": "code",
   "execution_count": 40,
   "metadata": {},
   "outputs": [],
   "source": [
    "data = pd.read_csv('gbm-data.csv')\n",
    "X = data.iloc[:, 1:]\n",
    "y = data['Activity']"
   ]
  },
  {
   "cell_type": "code",
   "execution_count": 41,
   "metadata": {},
   "outputs": [
    {
     "data": {
      "text/html": [
       "<div>\n",
       "<style scoped>\n",
       "    .dataframe tbody tr th:only-of-type {\n",
       "        vertical-align: middle;\n",
       "    }\n",
       "\n",
       "    .dataframe tbody tr th {\n",
       "        vertical-align: top;\n",
       "    }\n",
       "\n",
       "    .dataframe thead th {\n",
       "        text-align: right;\n",
       "    }\n",
       "</style>\n",
       "<table border=\"1\" class=\"dataframe\">\n",
       "  <thead>\n",
       "    <tr style=\"text-align: right;\">\n",
       "      <th></th>\n",
       "      <th>Activity</th>\n",
       "      <th>D1</th>\n",
       "      <th>D2</th>\n",
       "      <th>D3</th>\n",
       "      <th>D4</th>\n",
       "      <th>D5</th>\n",
       "      <th>D6</th>\n",
       "      <th>D7</th>\n",
       "      <th>D8</th>\n",
       "      <th>D9</th>\n",
       "      <th>...</th>\n",
       "      <th>D1767</th>\n",
       "      <th>D1768</th>\n",
       "      <th>D1769</th>\n",
       "      <th>D1770</th>\n",
       "      <th>D1771</th>\n",
       "      <th>D1772</th>\n",
       "      <th>D1773</th>\n",
       "      <th>D1774</th>\n",
       "      <th>D1775</th>\n",
       "      <th>D1776</th>\n",
       "    </tr>\n",
       "  </thead>\n",
       "  <tbody>\n",
       "    <tr>\n",
       "      <th>0</th>\n",
       "      <td>1</td>\n",
       "      <td>0.000000</td>\n",
       "      <td>0.497009</td>\n",
       "      <td>0.10</td>\n",
       "      <td>0.0</td>\n",
       "      <td>0.132956</td>\n",
       "      <td>0.678031</td>\n",
       "      <td>0.273166</td>\n",
       "      <td>0.585445</td>\n",
       "      <td>0.743663</td>\n",
       "      <td>...</td>\n",
       "      <td>0</td>\n",
       "      <td>0</td>\n",
       "      <td>0</td>\n",
       "      <td>0</td>\n",
       "      <td>0</td>\n",
       "      <td>0</td>\n",
       "      <td>0</td>\n",
       "      <td>0</td>\n",
       "      <td>0</td>\n",
       "      <td>0</td>\n",
       "    </tr>\n",
       "    <tr>\n",
       "      <th>1</th>\n",
       "      <td>1</td>\n",
       "      <td>0.366667</td>\n",
       "      <td>0.606291</td>\n",
       "      <td>0.05</td>\n",
       "      <td>0.0</td>\n",
       "      <td>0.111209</td>\n",
       "      <td>0.803455</td>\n",
       "      <td>0.106105</td>\n",
       "      <td>0.411754</td>\n",
       "      <td>0.836582</td>\n",
       "      <td>...</td>\n",
       "      <td>1</td>\n",
       "      <td>1</td>\n",
       "      <td>1</td>\n",
       "      <td>1</td>\n",
       "      <td>0</td>\n",
       "      <td>1</td>\n",
       "      <td>0</td>\n",
       "      <td>0</td>\n",
       "      <td>1</td>\n",
       "      <td>0</td>\n",
       "    </tr>\n",
       "    <tr>\n",
       "      <th>2</th>\n",
       "      <td>1</td>\n",
       "      <td>0.033300</td>\n",
       "      <td>0.480124</td>\n",
       "      <td>0.00</td>\n",
       "      <td>0.0</td>\n",
       "      <td>0.209791</td>\n",
       "      <td>0.610350</td>\n",
       "      <td>0.356453</td>\n",
       "      <td>0.517720</td>\n",
       "      <td>0.679051</td>\n",
       "      <td>...</td>\n",
       "      <td>0</td>\n",
       "      <td>0</td>\n",
       "      <td>0</td>\n",
       "      <td>0</td>\n",
       "      <td>0</td>\n",
       "      <td>0</td>\n",
       "      <td>0</td>\n",
       "      <td>0</td>\n",
       "      <td>0</td>\n",
       "      <td>0</td>\n",
       "    </tr>\n",
       "    <tr>\n",
       "      <th>3</th>\n",
       "      <td>1</td>\n",
       "      <td>0.000000</td>\n",
       "      <td>0.538825</td>\n",
       "      <td>0.00</td>\n",
       "      <td>0.5</td>\n",
       "      <td>0.196344</td>\n",
       "      <td>0.724230</td>\n",
       "      <td>0.235606</td>\n",
       "      <td>0.288764</td>\n",
       "      <td>0.805110</td>\n",
       "      <td>...</td>\n",
       "      <td>0</td>\n",
       "      <td>0</td>\n",
       "      <td>0</td>\n",
       "      <td>0</td>\n",
       "      <td>0</td>\n",
       "      <td>0</td>\n",
       "      <td>0</td>\n",
       "      <td>0</td>\n",
       "      <td>0</td>\n",
       "      <td>0</td>\n",
       "    </tr>\n",
       "    <tr>\n",
       "      <th>4</th>\n",
       "      <td>0</td>\n",
       "      <td>0.100000</td>\n",
       "      <td>0.517794</td>\n",
       "      <td>0.00</td>\n",
       "      <td>0.0</td>\n",
       "      <td>0.494734</td>\n",
       "      <td>0.781422</td>\n",
       "      <td>0.154361</td>\n",
       "      <td>0.303809</td>\n",
       "      <td>0.812646</td>\n",
       "      <td>...</td>\n",
       "      <td>0</td>\n",
       "      <td>0</td>\n",
       "      <td>0</td>\n",
       "      <td>0</td>\n",
       "      <td>0</td>\n",
       "      <td>0</td>\n",
       "      <td>0</td>\n",
       "      <td>0</td>\n",
       "      <td>0</td>\n",
       "      <td>0</td>\n",
       "    </tr>\n",
       "  </tbody>\n",
       "</table>\n",
       "<p>5 rows × 1777 columns</p>\n",
       "</div>"
      ],
      "text/plain": [
       "   Activity        D1        D2    D3   D4        D5        D6        D7  \\\n",
       "0         1  0.000000  0.497009  0.10  0.0  0.132956  0.678031  0.273166   \n",
       "1         1  0.366667  0.606291  0.05  0.0  0.111209  0.803455  0.106105   \n",
       "2         1  0.033300  0.480124  0.00  0.0  0.209791  0.610350  0.356453   \n",
       "3         1  0.000000  0.538825  0.00  0.5  0.196344  0.724230  0.235606   \n",
       "4         0  0.100000  0.517794  0.00  0.0  0.494734  0.781422  0.154361   \n",
       "\n",
       "         D8        D9  ...  D1767  D1768  D1769  D1770  D1771  D1772  D1773  \\\n",
       "0  0.585445  0.743663  ...      0      0      0      0      0      0      0   \n",
       "1  0.411754  0.836582  ...      1      1      1      1      0      1      0   \n",
       "2  0.517720  0.679051  ...      0      0      0      0      0      0      0   \n",
       "3  0.288764  0.805110  ...      0      0      0      0      0      0      0   \n",
       "4  0.303809  0.812646  ...      0      0      0      0      0      0      0   \n",
       "\n",
       "   D1774  D1775  D1776  \n",
       "0      0      0      0  \n",
       "1      0      1      0  \n",
       "2      0      0      0  \n",
       "3      0      0      0  \n",
       "4      0      0      0  \n",
       "\n",
       "[5 rows x 1777 columns]"
      ]
     },
     "execution_count": 41,
     "metadata": {},
     "output_type": "execute_result"
    }
   ],
   "source": [
    "data.head()"
   ]
  },
  {
   "cell_type": "code",
   "execution_count": 42,
   "metadata": {},
   "outputs": [],
   "source": [
    "X_train, X_test, y_train, y_test = train_test_split(X, y, test_size=0.8, random_state=241)"
   ]
  },
  {
   "cell_type": "code",
   "execution_count": 43,
   "metadata": {},
   "outputs": [],
   "source": [
    "def sigmoid(x):\n",
    "    return 1 / (1 + np.exp(-x))"
   ]
  },
  {
   "cell_type": "code",
   "execution_count": 44,
   "metadata": {},
   "outputs": [
    {
     "name": "stdout",
     "output_type": "stream",
     "text": [
      "      Iter       Train Loss   Remaining Time \n",
      "         1           1.0190           13.49s\n",
      "         2           0.9192           13.17s\n",
      "         3           0.8272           13.16s\n",
      "         4           0.7834           13.38s\n",
      "         5           0.7109           13.55s\n",
      "         6           0.6368           13.40s\n",
      "         7           0.5797           13.27s\n",
      "         8           0.5610           13.29s\n",
      "         9           0.5185           13.33s\n",
      "        10           0.4984           13.21s\n",
      "        20           0.1999           12.75s\n",
      "        30           0.1313           12.10s\n",
      "        40           0.0790           11.46s\n",
      "        50           0.0511           10.83s\n",
      "        60           0.0352           10.28s\n",
      "        70           0.0245            9.76s\n",
      "        80           0.0162            9.19s\n",
      "        90           0.0114            8.66s\n",
      "       100           0.0077            8.11s\n",
      "       200           0.0002            2.63s\n",
      "      Iter       Train Loss   Remaining Time \n",
      "         1           1.1255           12.94s\n",
      "         2           1.0035           12.87s\n",
      "         3           0.9386           12.77s\n",
      "         4           0.8844           12.93s\n",
      "         5           0.8381           13.52s\n",
      "         6           0.7995           13.47s\n",
      "         7           0.7559           13.39s\n",
      "         8           0.7205           13.75s\n",
      "         9           0.6958           13.64s\n",
      "        10           0.6725           13.52s\n",
      "        20           0.4672           12.78s\n",
      "        30           0.3179           12.03s\n",
      "        40           0.2274           11.55s\n",
      "        50           0.1774           10.95s\n",
      "        60           0.1394           10.36s\n",
      "        70           0.1050            9.85s\n",
      "        80           0.0805            9.25s\n",
      "        90           0.0650            8.68s\n",
      "       100           0.0511            8.14s\n",
      "       200           0.0058            2.64s\n",
      "      Iter       Train Loss   Remaining Time \n",
      "         1           1.2095           13.18s\n",
      "         2           1.1006           13.04s\n",
      "         3           1.0240           13.05s\n",
      "         4           0.9729           13.13s\n",
      "         5           0.9387           13.58s\n",
      "         6           0.8948           13.48s\n",
      "         7           0.8621           13.44s\n",
      "         8           0.8360           13.82s\n",
      "         9           0.8171           13.74s\n",
      "        10           0.7883           13.66s\n",
      "        20           0.6029           12.66s\n",
      "        30           0.4760           11.95s\n",
      "        40           0.3879           11.38s\n",
      "        50           0.3325           10.81s\n",
      "        60           0.2759           10.25s\n",
      "        70           0.2304            9.73s\n",
      "        80           0.1969            9.18s\n",
      "        90           0.1718            8.63s\n",
      "       100           0.1404            8.08s\n",
      "       200           0.0358            2.66s\n",
      "      Iter       Train Loss   Remaining Time \n",
      "         1           1.2613           12.89s\n",
      "         2           1.1715           12.83s\n",
      "         3           1.1009           12.75s\n",
      "         4           1.0529           12.85s\n",
      "         5           1.0130           13.30s\n",
      "         6           0.9740           13.19s\n",
      "         7           0.9475           13.06s\n",
      "         8           0.9197           13.14s\n",
      "         9           0.8979           13.19s\n",
      "        10           0.8730           13.18s\n",
      "        20           0.7207           12.36s\n",
      "        30           0.6055           11.76s\n",
      "        40           0.5244           11.22s\n",
      "        50           0.4501           10.70s\n",
      "        60           0.3908           10.15s\n",
      "        70           0.3372            9.61s\n",
      "        80           0.3009            9.05s\n",
      "        90           0.2603            8.51s\n",
      "       100           0.2327            7.99s\n",
      "       200           0.0835            2.62s\n",
      "      Iter       Train Loss   Remaining Time \n",
      "         1           1.3199           12.97s\n",
      "         2           1.2645           12.88s\n",
      "         3           1.2170           12.77s\n",
      "         4           1.1775           12.96s\n",
      "         5           1.1404           13.48s\n",
      "         6           1.1106           13.38s\n",
      "         7           1.0844           13.26s\n",
      "         8           1.0617           13.39s\n",
      "         9           1.0411           13.50s\n",
      "        10           1.0223           13.52s\n",
      "        20           0.8864           12.54s\n",
      "        30           0.7844           12.21s\n",
      "        40           0.7176           11.59s\n",
      "        50           0.6590           11.00s\n",
      "        60           0.6120           10.42s\n",
      "        70           0.5599            9.97s\n",
      "        80           0.5242            9.38s\n",
      "        90           0.4829            8.92s\n",
      "       100           0.4473            8.33s\n",
      "       200           0.2379            2.74s\n"
     ]
    }
   ],
   "source": [
    "learning_rate = [1, 0.5, 0.3, 0.2, 0.1]\n",
    "\n",
    "train_loss = {}\n",
    "test_loss = {}\n",
    "\n",
    "for rate in learning_rate:\n",
    "    model = GradientBoostingClassifier(n_estimators=250, random_state=241, verbose=True, learning_rate=rate)\n",
    "    model.fit(X_train, y_train)\n",
    "    \n",
    "    train_loss[rate] = []\n",
    "    test_loss[rate] = []\n",
    "    \n",
    "    for y_pred in model.staged_decision_function(X_train):\n",
    "        train_loss[rate].append(log_loss(y_train,sigmoid(y_pred)))\n",
    "    \n",
    "    for y_pred in model.staged_decision_function(X_test):\n",
    "        test_loss[rate].append(log_loss(y_test,sigmoid(y_pred)))  "
   ]
  },
  {
   "cell_type": "code",
   "execution_count": 45,
   "metadata": {},
   "outputs": [
    {
     "data": {
      "image/png": "[encoded data removed]",
      "text/plain": [
       "<Figure size 432x288 with 1 Axes>"
      ]
     },
     "metadata": {},
     "output_type": "display_data"
    },
    {
     "data": {
      "image/png": "[encoded data removed]",
      "text/plain": [
       "<Figure size 432x288 with 1 Axes>"
      ]
     },
     "metadata": {},
     "output_type": "display_data"
    },
    {
     "data": {
      "image/png": "[encoded data removed]",
      "text/plain": [
       "<Figure size 432x288 with 1 Axes>"
      ]
     },
     "metadata": {},
     "output_type": "display_data"
    },
    {
     "data": {
      "image/png": "[encoded data removed]",
      "text/plain": [
       "<Figure size 432x288 with 1 Axes>"
      ]
     },
     "metadata": {},
     "output_type": "display_data"
    },
    {
     "data": {
      "image/png": "[encoded data removed]",
      "text/plain": [
       "<Figure size 432x288 with 1 Axes>"
      ]
     },
     "metadata": {},
     "output_type": "display_data"
    }
   ],
   "source": [
    "for rate in learning_rate:\n",
    "    plt.figure()\n",
    "    plt.plot(test_loss[rate], 'r', linewidth=2)\n",
    "    plt.plot(train_loss[rate], 'g', linewidth=2)\n",
    "    plt.legend(['test', 'train'])\n",
    "plt.show()"
   ]
  },
  {
   "cell_type": "code",
   "execution_count": 46,
   "metadata": {},
   "outputs": [],
   "source": [
    "with open('1.txt', 'w') as f:\n",
    "    f.write('overfitting')"
   ]
  },
  {
   "cell_type": "code",
   "execution_count": 47,
   "metadata": {},
   "outputs": [],
   "source": [
    "def min_iter_to_score(scores):\n",
    "    min_score = scores[0]\n",
    "    min_iter = 1\n",
    "    for i, score in enumerate(scores):\n",
    "        if score < min_score:\n",
    "            min_score = score\n",
    "            min_iter = i+1\n",
    "    return min_score, min_iter"
   ]
  },
  {
   "cell_type": "code",
   "execution_count": 48,
   "metadata": {},
   "outputs": [
    {
     "data": {
      "text/plain": [
       "(0.5301645204906471, 37)"
      ]
     },
     "execution_count": 48,
     "metadata": {},
     "output_type": "execute_result"
    }
   ],
   "source": [
    "min_score, min_iter = min_iter_to_score(test_loss[0.2])\n",
    "min_score, min_iter"
   ]
  },
  {
   "cell_type": "code",
   "execution_count": 53,
   "metadata": {},
   "outputs": [],
   "source": [
    "with open('2.txt', 'w') as f:\n",
    "    f.write(str(round(min_score, 2)) + ' ' + str(min_iter))"
   ]
  },
  {
   "cell_type": "code",
   "execution_count": 50,
   "metadata": {},
   "outputs": [
    {
     "name": "stdout",
     "output_type": "stream",
     "text": [
      "      Iter       Train Loss   Remaining Time \n",
      "         1           1.2613            2.11s\n",
      "         2           1.1715            1.82s\n",
      "         3           1.1009            1.71s\n",
      "         4           1.0529            1.65s\n",
      "         5           1.0130            1.64s\n",
      "         6           0.9740            1.56s\n",
      "         7           0.9475            1.48s\n",
      "         8           0.9197            1.40s\n",
      "         9           0.8979            1.39s\n",
      "        10           0.8730            1.38s\n",
      "        20           0.7207            0.85s\n",
      "        30           0.6055            0.34s\n"
     ]
    },
    {
     "data": {
      "text/plain": [
       "GradientBoostingClassifier(learning_rate=0.2, n_estimators=37, random_state=241,\n",
       "                           verbose=True)"
      ]
     },
     "execution_count": 50,
     "metadata": {},
     "output_type": "execute_result"
    }
   ],
   "source": [
    "model = GradientBoostingClassifier(n_estimators=min_iter, random_state=241, verbose=True, learning_rate=0.2)\n",
    "model.fit(X_train, y_train)"
   ]
  },
  {
   "cell_type": "code",
   "execution_count": 51,
   "metadata": {},
   "outputs": [
    {
     "data": {
      "text/plain": [
       "0.5301645204906471"
      ]
     },
     "execution_count": 51,
     "metadata": {},
     "output_type": "execute_result"
    }
   ],
   "source": [
    "y_pred = model.predict_proba(X_test)\n",
    "test_loss = log_loss(y_test, y_pred)\n",
    "test_loss"
   ]
  },
  {
   "cell_type": "code",
   "execution_count": 52,
   "metadata": {},
   "outputs": [],
   "source": [
    "with open('3.txt', 'w') as f:\n",
    "    f.write(str(round(test_loss, 2)))"
   ]
  },
  {
   "cell_type": "code",
   "execution_count": null,
   "metadata": {},
   "outputs": [],
   "source": []
  }
 ],
 "metadata": {
  "kernelspec": {
   "display_name": "Python 3",
   "language": "python",
   "name": "python3"
  },
  "language_info": {
   "codemirror_mode": {
    "name": "ipython",
    "version": 3
   },
   "file_extension": ".py",
   "mimetype": "text/x-python",
   "name": "python",
   "nbconvert_exporter": "python",
   "pygments_lexer": "ipython3",
   "version": "3.6.9"
  }
 },
 "nbformat": 4,
 "nbformat_minor": 2
}
